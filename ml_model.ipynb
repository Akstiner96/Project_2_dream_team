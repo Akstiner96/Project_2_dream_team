{
 "cells": [
  {
   "cell_type": "code",
   "execution_count": 1,
   "metadata": {},
   "outputs": [
    {
     "name": "stderr",
     "output_type": "stream",
     "text": [
      "C:\\Users\\andre\\Documents\\Bootcamp\\Class_repository\\repository_work\\Project_2_dream_team\\stock_pull.py:11: UserWarning: Make sure you are in the PyViz environment\n",
      "  warnings.warn('Make sure you are in the PyViz environment')\n",
      "C:\\Users\\andre\\Documents\\Bootcamp\\Class_repository\\repository_work\\Project_2_dream_team\\stock_pull.py:23: UserWarning: Make sure your api keys are renamed to fit this function or alter the function to fit your names\n",
      "  warnings.warn('Make sure your api keys are renamed to fit this function or alter the function to fit your names')\n"
     ]
    }
   ],
   "source": [
    "import pandas as pd\n",
    "import numpy as np\n",
    "from pathlib import Path\n",
    "from stock_pull import*"
   ]
  },
  {
   "cell_type": "code",
   "execution_count": 4,
   "metadata": {},
   "outputs": [
    {
     "data": {
      "text/html": [
       "<div>\n",
       "<style scoped>\n",
       "    .dataframe tbody tr th:only-of-type {\n",
       "        vertical-align: middle;\n",
       "    }\n",
       "\n",
       "    .dataframe tbody tr th {\n",
       "        vertical-align: top;\n",
       "    }\n",
       "\n",
       "    .dataframe thead th {\n",
       "        text-align: right;\n",
       "    }\n",
       "</style>\n",
       "<table border=\"1\" class=\"dataframe\">\n",
       "  <thead>\n",
       "    <tr style=\"text-align: right;\">\n",
       "      <th></th>\n",
       "      <th>SPY Open</th>\n",
       "      <th>SPY Close</th>\n",
       "      <th>SPY Volume</th>\n",
       "    </tr>\n",
       "    <tr>\n",
       "      <th>date</th>\n",
       "      <th></th>\n",
       "      <th></th>\n",
       "      <th></th>\n",
       "    </tr>\n",
       "  </thead>\n",
       "  <tbody>\n",
       "    <tr>\n",
       "      <th>2000-07-03</th>\n",
       "      <td>145.4375</td>\n",
       "      <td>147.2812</td>\n",
       "      <td>1436600.0</td>\n",
       "    </tr>\n",
       "    <tr>\n",
       "      <th>2000-07-05</th>\n",
       "      <td>146.3750</td>\n",
       "      <td>144.6250</td>\n",
       "      <td>2748200.0</td>\n",
       "    </tr>\n",
       "    <tr>\n",
       "      <th>2000-07-06</th>\n",
       "      <td>144.9375</td>\n",
       "      <td>145.7500</td>\n",
       "      <td>5963200.0</td>\n",
       "    </tr>\n",
       "    <tr>\n",
       "      <th>2000-07-07</th>\n",
       "      <td>146.6875</td>\n",
       "      <td>148.0937</td>\n",
       "      <td>3034800.0</td>\n",
       "    </tr>\n",
       "    <tr>\n",
       "      <th>2000-07-10</th>\n",
       "      <td>147.8750</td>\n",
       "      <td>147.8437</td>\n",
       "      <td>2816100.0</td>\n",
       "    </tr>\n",
       "    <tr>\n",
       "      <th>2000-07-11</th>\n",
       "      <td>147.4687</td>\n",
       "      <td>148.1562</td>\n",
       "      <td>5431600.0</td>\n",
       "    </tr>\n",
       "    <tr>\n",
       "      <th>2000-07-12</th>\n",
       "      <td>149.2812</td>\n",
       "      <td>149.1250</td>\n",
       "      <td>5883000.0</td>\n",
       "    </tr>\n",
       "    <tr>\n",
       "      <th>2000-07-13</th>\n",
       "      <td>149.9843</td>\n",
       "      <td>149.7812</td>\n",
       "      <td>5356000.0</td>\n",
       "    </tr>\n",
       "    <tr>\n",
       "      <th>2000-07-14</th>\n",
       "      <td>150.4375</td>\n",
       "      <td>151.2500</td>\n",
       "      <td>5341900.0</td>\n",
       "    </tr>\n",
       "    <tr>\n",
       "      <th>2000-07-17</th>\n",
       "      <td>150.9843</td>\n",
       "      <td>151.0000</td>\n",
       "      <td>4208300.0</td>\n",
       "    </tr>\n",
       "    <tr>\n",
       "      <th>2000-07-18</th>\n",
       "      <td>150.6250</td>\n",
       "      <td>149.7656</td>\n",
       "      <td>4262100.0</td>\n",
       "    </tr>\n",
       "    <tr>\n",
       "      <th>2000-07-19</th>\n",
       "      <td>149.4687</td>\n",
       "      <td>148.5625</td>\n",
       "      <td>8506800.0</td>\n",
       "    </tr>\n",
       "  </tbody>\n",
       "</table>\n",
       "</div>"
      ],
      "text/plain": [
       "            SPY Open  SPY Close  SPY Volume\n",
       "date                                       \n",
       "2000-07-03  145.4375   147.2812   1436600.0\n",
       "2000-07-05  146.3750   144.6250   2748200.0\n",
       "2000-07-06  144.9375   145.7500   5963200.0\n",
       "2000-07-07  146.6875   148.0937   3034800.0\n",
       "2000-07-10  147.8750   147.8437   2816100.0\n",
       "2000-07-11  147.4687   148.1562   5431600.0\n",
       "2000-07-12  149.2812   149.1250   5883000.0\n",
       "2000-07-13  149.9843   149.7812   5356000.0\n",
       "2000-07-14  150.4375   151.2500   5341900.0\n",
       "2000-07-17  150.9843   151.0000   4208300.0\n",
       "2000-07-18  150.6250   149.7656   4262100.0\n",
       "2000-07-19  149.4687   148.5625   8506800.0"
      ]
     },
     "execution_count": 4,
     "metadata": {},
     "output_type": "execute_result"
    }
   ],
   "source": [
    "cleaned.head(12)"
   ]
  },
  {
   "cell_type": "code",
   "execution_count": null,
   "metadata": {},
   "outputs": [],
   "source": []
  }
 ],
 "metadata": {
  "kernelspec": {
   "display_name": "Python 3",
   "language": "python",
   "name": "python3"
  },
  "language_info": {
   "codemirror_mode": {
    "name": "ipython",
    "version": 3
   },
   "file_extension": ".py",
   "mimetype": "text/x-python",
   "name": "python",
   "nbconvert_exporter": "python",
   "pygments_lexer": "ipython3",
   "version": "3.7.7"
  }
 },
 "nbformat": 4,
 "nbformat_minor": 4
}
