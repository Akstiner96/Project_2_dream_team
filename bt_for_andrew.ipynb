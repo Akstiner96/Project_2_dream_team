{
 "cells": [
  {
   "cell_type": "code",
   "execution_count": null,
   "metadata": {},
   "outputs": [],
   "source": [
    "def backtest(signals_df):\n",
    "    backtest_df = signals_df[['Close', 'Buy Signals', 'Sell Signals', 'Signal']].copy()\n",
    "    bt = backtest_df\n",
    "    current_pos = 0\n",
    "    cash = 100000\n",
    "    bt['Current Position'] = current_pos\n",
    "    bt['Current Cash'] = cash\n",
    "    \n",
    "    # add buy and hold column and variables\n",
    "    buy_and_hold_cash = 100000\n",
    "    buy_and_hold_shares = buy_and_hold_cash/bt['Close'].iloc[0] \n",
    "    bt[\"Buy&Hold Total\"]= buy_and_hold_shares * bt['Close']\n",
    "   \n",
    "    for i, row in bt.iterrows():\n",
    "        \n",
    "       \n",
    "        if bt.at[i, 'Signal'] == 1 and current_pos == 0:\n",
    "            current_pos = cash/row[\"Close\"]\n",
    "            cash = 0\n",
    "            bt.at[i, 'Current Position'] = current_pos\n",
    "            bt.at[i, 'Current Cash'] = cash\n",
    "\n",
    "        elif bt.at[i, 'Signal'] == 1 and current_pos != 0:\n",
    "            current_pos = current_pos\n",
    "            cash = cash\n",
    "            bt.at[i, 'Current Position'] = current_pos\n",
    "            bt.at[i, 'Current Cash'] = cash\n",
    "\n",
    "        elif bt.at[i, 'Signal'] == -1 and current_pos != 0:   \n",
    "            cash = cash + (bt.at[i, 'Close']* current_pos)\n",
    "            current_pos = 0\n",
    "            bt.at[i, 'Current Position'] = current_pos\n",
    "            bt.at[i, 'Current Cash'] = cash\n",
    "\n",
    "        elif bt.at[i, 'Signal'] == -1 and current_pos == 0:\n",
    "            current_pos = current_pos\n",
    "            cash = cash\n",
    "            bt.at[i, 'Current Position'] = current_pos\n",
    "            bt.at[i, 'Current Cash'] = cash\n",
    "\n",
    "        elif bt.at[i, 'Signal'] == 0 and current_pos != 0:\n",
    "            current_pos = current_pos\n",
    "            cash = cash\n",
    "            bt.at[i, 'Current Position'] = current_pos\n",
    "            bt.at[i, 'Current Cash'] = cash\n",
    "        elif bt.at[i, 'Signal'] == 0 and current_pos == 0:\n",
    "            current_pos = 0\n",
    "            cash = cash\n",
    "            bt.at[i, 'Current Position'] = current_pos\n",
    "            bt.at[i, 'Current Cash'] = cash\n",
    "            \n",
    "    return backtest_df.round(2)"
   ]
  }
 ],
 "metadata": {
  "kernelspec": {
   "display_name": "Python 3",
   "language": "python",
   "name": "python3"
  },
  "language_info": {
   "codemirror_mode": {
    "name": "ipython",
    "version": 3
   },
   "file_extension": ".py",
   "mimetype": "text/x-python",
   "name": "python",
   "nbconvert_exporter": "python",
   "pygments_lexer": "ipython3",
   "version": "3.7.6"
  }
 },
 "nbformat": 4,
 "nbformat_minor": 4
}
